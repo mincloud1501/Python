{
 "cells": [
  {
   "cell_type": "code",
   "execution_count": 1,
   "metadata": {},
   "outputs": [
    {
     "ename": "ModuleNotFoundError",
     "evalue": "No module named 'pydeck'",
     "output_type": "error",
     "traceback": [
      "\u001b[1;31m---------------------------------------------------------------------------\u001b[0m",
      "\u001b[1;31mModuleNotFoundError\u001b[0m                       Traceback (most recent call last)",
      "\u001b[1;32m<ipython-input-1-5aa5a5d9b301>\u001b[0m in \u001b[0;36m<module>\u001b[1;34m()\u001b[0m\n\u001b[1;32m----> 1\u001b[1;33m \u001b[1;32mimport\u001b[0m \u001b[0mpydeck\u001b[0m \u001b[1;32mas\u001b[0m \u001b[0mpdk\u001b[0m\u001b[1;33m\u001b[0m\u001b[0m\n\u001b[0m\u001b[0;32m      2\u001b[0m \u001b[1;32mimport\u001b[0m \u001b[0mpandas\u001b[0m \u001b[1;32mas\u001b[0m \u001b[0mpd\u001b[0m\u001b[1;33m\u001b[0m\u001b[0m\n",
      "\u001b[1;31mModuleNotFoundError\u001b[0m: No module named 'pydeck'"
     ]
    }
   ],
   "source": [
    "import pydeck as pdk\n",
    "import pandas as pd"
   ]
  },
  {
   "cell_type": "code",
   "execution_count": 3,
   "metadata": {},
   "outputs": [
    {
     "data": {
      "text/html": [
       "<div>\n",
       "<style scoped>\n",
       "    .dataframe tbody tr th:only-of-type {\n",
       "        vertical-align: middle;\n",
       "    }\n",
       "\n",
       "    .dataframe tbody tr th {\n",
       "        vertical-align: top;\n",
       "    }\n",
       "\n",
       "    .dataframe thead th {\n",
       "        text-align: right;\n",
       "    }\n",
       "</style>\n",
       "<table border=\"1\" class=\"dataframe\">\n",
       "  <thead>\n",
       "    <tr style=\"text-align: right;\">\n",
       "      <th></th>\n",
       "      <th>lng</th>\n",
       "      <th>lat</th>\n",
       "    </tr>\n",
       "  </thead>\n",
       "  <tbody>\n",
       "    <tr>\n",
       "      <th>0</th>\n",
       "      <td>-0.198465</td>\n",
       "      <td>51.505538</td>\n",
       "    </tr>\n",
       "    <tr>\n",
       "      <th>1</th>\n",
       "      <td>-0.178838</td>\n",
       "      <td>51.491836</td>\n",
       "    </tr>\n",
       "    <tr>\n",
       "      <th>2</th>\n",
       "      <td>-0.205590</td>\n",
       "      <td>51.514910</td>\n",
       "    </tr>\n",
       "    <tr>\n",
       "      <th>3</th>\n",
       "      <td>-0.208327</td>\n",
       "      <td>51.514952</td>\n",
       "    </tr>\n",
       "    <tr>\n",
       "      <th>4</th>\n",
       "      <td>-0.206022</td>\n",
       "      <td>51.496572</td>\n",
       "    </tr>\n",
       "  </tbody>\n",
       "</table>\n",
       "</div>"
      ],
      "text/plain": [
       "        lng        lat\n",
       "0 -0.198465  51.505538\n",
       "1 -0.178838  51.491836\n",
       "2 -0.205590  51.514910\n",
       "3 -0.208327  51.514952\n",
       "4 -0.206022  51.496572"
      ]
     },
     "execution_count": 3,
     "metadata": {},
     "output_type": "execute_result"
    }
   ],
   "source": [
    "# 2014 locations of car accidents in the UK\n",
    "UK_ACCIDENTS_DATA = ('https://raw.githubusercontent.com/uber-common/deck.gl-data/master/examples/3d-heatmap/heatmap-data.csv')\n",
    "\n",
    "pd.read_csv(UK_ACCIDENTS_DATA).head()"
   ]
  },
  {
   "cell_type": "code",
   "execution_count": 4,
   "metadata": {},
   "outputs": [],
   "source": [
    "# Define a layer to display on a map\n",
    "layer = pdk.Layer(\n",
    "    'HexagonLayer',\n",
    "    UK_ACCIDENTS_DATA,\n",
    "    get_position='[lng, lat]',\n",
    "    auto_highlight=True,\n",
    "    elevation_scale=50,\n",
    "    pickable=True,\n",
    "    elevation_range=[0, 3000],\n",
    "    extruded=True,                 \n",
    "    coverage=1)"
   ]
  },
  {
   "cell_type": "code",
   "execution_count": 5,
   "metadata": {},
   "outputs": [],
   "source": [
    "# Set the viewport location\n",
    "view_state = pdk.ViewState(\n",
    "    longitude=-1.415,\n",
    "    latitude=52.2323,\n",
    "    zoom=6,\n",
    "    min_zoom=5,\n",
    "    max_zoom=15,\n",
    "    pitch=40.5,\n",
    "    bearing=-27.36)"
   ]
  },
  {
   "cell_type": "code",
   "execution_count": 6,
   "metadata": {},
   "outputs": [
    {
     "data": {
      "text/html": [
       "\n",
       "        <iframe\n",
       "            width=\"700\"\n",
       "            height=\"500\"\n",
       "            src=\"./demo.html\"\n",
       "            frameborder=\"0\"\n",
       "            allowfullscreen\n",
       "        ></iframe>\n",
       "        "
      ],
      "text/plain": [
       "<IPython.lib.display.IFrame at 0x8b462b0>"
      ]
     },
     "metadata": {},
     "output_type": "display_data"
    },
    {
     "data": {
      "text/plain": [
       "'D:\\\\2019년\\\\★Study\\\\Python\\\\Pydeck\\\\demo.html'"
      ]
     },
     "execution_count": 6,
     "metadata": {},
     "output_type": "execute_result"
    }
   ],
   "source": [
    "# Combined all of it and render a viewport\n",
    "r = pdk.Deck(layers=[layer], initial_view_state=view_state)\n",
    "r.to_html('demo.html')"
   ]
  },
  {
   "cell_type": "code",
   "execution_count": 7,
   "metadata": {},
   "outputs": [],
   "source": [
    "layer.elevation_range = [0, 10000]\n",
    "r.update()"
   ]
  },
  {
   "cell_type": "code",
   "execution_count": 8,
   "metadata": {},
   "outputs": [
    {
     "data": {
      "application/vnd.jupyter.widget-view+json": {
       "model_id": "b158a30a84a64dae86e90ea8634b9f99",
       "version_major": 2,
       "version_minor": 0
      },
      "text/plain": [
       "DeckGLWidget(json_input='{\"initialViewState\": {\"bearing\": -27.36, \"latitude\": 52.2323, \"longitude\": -1.415, \"m…"
      ]
     },
     "metadata": {},
     "output_type": "display_data"
    }
   ],
   "source": [
    "import time\n",
    "r.show()"
   ]
  },
  {
   "cell_type": "code",
   "execution_count": 9,
   "metadata": {},
   "outputs": [],
   "source": [
    "for i in range(0, 10000, 1000):\n",
    "    layer.elevation_range = [0, i]\n",
    "    r.update()\n",
    "    time.sleep(0.1)"
   ]
  },
  {
   "cell_type": "code",
   "execution_count": 10,
   "metadata": {},
   "outputs": [
    {
     "data": {
      "text/html": [
       "<div>\n",
       "<style scoped>\n",
       "    .dataframe tbody tr th:only-of-type {\n",
       "        vertical-align: middle;\n",
       "    }\n",
       "\n",
       "    .dataframe tbody tr th {\n",
       "        vertical-align: top;\n",
       "    }\n",
       "\n",
       "    .dataframe thead th {\n",
       "        text-align: right;\n",
       "    }\n",
       "</style>\n",
       "<table border=\"1\" class=\"dataframe\">\n",
       "  <thead>\n",
       "    <tr style=\"text-align: right;\">\n",
       "      <th></th>\n",
       "      <th>lat</th>\n",
       "      <th>lng</th>\n",
       "      <th>osm_id</th>\n",
       "      <th>station_name</th>\n",
       "      <th>chinese_name</th>\n",
       "      <th>opening_date</th>\n",
       "      <th>color</th>\n",
       "      <th>line_name</th>\n",
       "    </tr>\n",
       "  </thead>\n",
       "  <tbody>\n",
       "    <tr>\n",
       "      <th>0</th>\n",
       "      <td>39.940249</td>\n",
       "      <td>116.456359</td>\n",
       "      <td>1351272524</td>\n",
       "      <td>Agricultural Exhibition Center</td>\n",
       "      <td>农业展览馆</td>\n",
       "      <td>2008-07-19</td>\n",
       "      <td>[0, 146, 188, 255]</td>\n",
       "      <td>Line 10</td>\n",
       "    </tr>\n",
       "    <tr>\n",
       "      <th>1</th>\n",
       "      <td>39.955570</td>\n",
       "      <td>116.388507</td>\n",
       "      <td>5057476994</td>\n",
       "      <td>Andelibeijie</td>\n",
       "      <td>安德里北街</td>\n",
       "      <td>2015-12-26</td>\n",
       "      <td>[0, 155, 119, 255]</td>\n",
       "      <td>Line 8 (North section)</td>\n",
       "    </tr>\n",
       "    <tr>\n",
       "      <th>2</th>\n",
       "      <td>39.947729</td>\n",
       "      <td>116.402067</td>\n",
       "      <td>339088654</td>\n",
       "      <td>Andingmen</td>\n",
       "      <td>安定门</td>\n",
       "      <td>1984-09-20</td>\n",
       "      <td>[0, 75, 135, 255]</td>\n",
       "      <td>Line 2</td>\n",
       "    </tr>\n",
       "    <tr>\n",
       "      <th>3</th>\n",
       "      <td>40.011026</td>\n",
       "      <td>116.263981</td>\n",
       "      <td>1362259113</td>\n",
       "      <td>Anheqiao North</td>\n",
       "      <td>安河桥北</td>\n",
       "      <td>2009-09-28</td>\n",
       "      <td>[0, 140, 149, 255]</td>\n",
       "      <td>Line 4</td>\n",
       "    </tr>\n",
       "    <tr>\n",
       "      <th>4</th>\n",
       "      <td>39.967112</td>\n",
       "      <td>116.388398</td>\n",
       "      <td>5305505996</td>\n",
       "      <td>Anhuaqiao</td>\n",
       "      <td>安华桥</td>\n",
       "      <td>2012-12-30</td>\n",
       "      <td>[0, 155, 119, 255]</td>\n",
       "      <td>Line 8 (North section)</td>\n",
       "    </tr>\n",
       "  </tbody>\n",
       "</table>\n",
       "</div>"
      ],
      "text/plain": [
       "         lat         lng      osm_id                    station_name  \\\n",
       "0  39.940249  116.456359  1351272524  Agricultural Exhibition Center   \n",
       "1  39.955570  116.388507  5057476994                    Andelibeijie   \n",
       "2  39.947729  116.402067   339088654                       Andingmen   \n",
       "3  40.011026  116.263981  1362259113                  Anheqiao North   \n",
       "4  39.967112  116.388398  5305505996                       Anhuaqiao   \n",
       "\n",
       "  chinese_name opening_date               color               line_name  \n",
       "0        农业展览馆   2008-07-19  [0, 146, 188, 255]                 Line 10  \n",
       "1        安德里北街   2015-12-26  [0, 155, 119, 255]  Line 8 (North section)  \n",
       "2          安定门   1984-09-20   [0, 75, 135, 255]                  Line 2  \n",
       "3         安河桥北   2009-09-28  [0, 140, 149, 255]                  Line 4  \n",
       "4          安华桥   2012-12-30  [0, 155, 119, 255]  Line 8 (North section)  "
      ]
     },
     "execution_count": 10,
     "metadata": {},
     "output_type": "execute_result"
    }
   ],
   "source": [
    "import pandas as pd\n",
    "from pydeck import (\n",
    "    data_utils,\n",
    "    Deck,\n",
    "    Layer\n",
    ")\n",
    "\n",
    "# First, let's use Pandas to download our data\n",
    "URL = 'https://raw.githubusercontent.com/ajduberstein/data_sets/master/beijing_subway_station.csv'\n",
    "df = pd.read_csv(URL)\n",
    "df.head()"
   ]
  },
  {
   "cell_type": "code",
   "execution_count": 11,
   "metadata": {},
   "outputs": [],
   "source": [
    "from ast import literal_eval\n",
    "# We have to re-code position to be one field in a list, so we'll do that here:\n",
    "# The CSV encodes the [R, G, B, A] color values listed in it as a string\n",
    "df['color'] = df.apply(lambda x: literal_eval(x['color']), axis=1)"
   ]
  },
  {
   "cell_type": "code",
   "execution_count": 12,
   "metadata": {},
   "outputs": [
    {
     "data": {
      "application/vnd.jupyter.widget-view+json": {
       "model_id": "e91d67e1375d46eeaa4afbd3f0fab0b9",
       "version_major": 2,
       "version_minor": 0
      },
      "text/plain": [
       "DeckGLWidget(json_input='{\"initialViewState\": {\"bearing\": 0, \"latitude\": 39.92295563963415, \"longitude\": 116.3…"
      ]
     },
     "metadata": {},
     "output_type": "display_data"
    }
   ],
   "source": [
    "# Use pydeck's data_utils module to fit a viewport to the central 90% of the data\n",
    "viewport = data_utils.compute_view(points=df[['lng', 'lat']], view_proportion=0.9)\n",
    "auto_zoom_map = Deck(layers=None, initial_view_state=viewport)\n",
    "auto_zoom_map.show()"
   ]
  },
  {
   "cell_type": "code",
   "execution_count": 13,
   "metadata": {},
   "outputs": [
    {
     "data": {
      "application/vnd.jupyter.widget-view+json": {
       "model_id": "cb938a35cab344e4bd49d4d94e91c40b",
       "version_major": 2,
       "version_minor": 0
      },
      "text/plain": [
       "HTML(value='<h1>2019</h1>')"
      ]
     },
     "metadata": {},
     "output_type": "display_data"
    },
    {
     "data": {
      "application/vnd.jupyter.widget-view+json": {
       "model_id": "7a632f41acc04237bd5e1ba8360dceae",
       "version_major": 2,
       "version_minor": 0
      },
      "text/plain": [
       "DeckGLWidget(json_input='{\"initialViewState\": {\"bearing\": 0, \"latitude\": 39.92295563963415, \"longitude\": 116.3…"
      ]
     },
     "metadata": {},
     "output_type": "display_data"
    }
   ],
   "source": [
    "from IPython.core.display import display\n",
    "import ipywidgets\n",
    "\n",
    "year = 2019\n",
    "\n",
    "scatterplot = Layer(\n",
    "    'ScatterplotLayer',\n",
    "    df,\n",
    "    id='scatterplot-layer',\n",
    "    get_radius=500,\n",
    "    get_fill_color='color',\n",
    "    get_position='[lng, lat]')\n",
    "r = Deck(layers=[scatterplot], initial_view_state=viewport)\n",
    "\n",
    "# Create an HTML header to display the year\n",
    "display_el = ipywidgets.HTML('<h1>{}</h1>'.format(year))\n",
    "display(display_el)\n",
    "# Show the current visualization\n",
    "r.show()"
   ]
  },
  {
   "cell_type": "code",
   "execution_count": 14,
   "metadata": {},
   "outputs": [],
   "source": [
    "import time\n",
    "for y in range(1971, 2020):\n",
    "    scatterplot.data = df[df['opening_date'] <= str(y)]\n",
    "    year = y\n",
    "    # Reset the header to display the year\n",
    "    display_el.value = '<h1>{}</h1>'.format(year)\n",
    "    r.update()\n",
    "    time.sleep(0.2)"
   ]
  },
  {
   "cell_type": "code",
   "execution_count": 15,
   "metadata": {},
   "outputs": [],
   "source": [
    "import pydeck as pdk\n",
    "\n",
    "DATA_URL = 'https://api.data.gov.sg/v1/transport/taxi-availability'\n",
    "COLOR_RANGE = [\n",
    "  [255, 255, 178, 25],\n",
    "  [254, 217, 118, 85],\n",
    "  [254, 178, 76, 127],\n",
    "  [253, 141, 60, 170],\n",
    "  [240, 59, 32, 212],\n",
    "  [189, 0, 38, 255]\n",
    "]"
   ]
  },
  {
   "cell_type": "code",
   "execution_count": 16,
   "metadata": {},
   "outputs": [],
   "source": [
    "import pandas as pd\n",
    "import requests\n",
    "\n",
    "json = requests.get(DATA_URL).json()\n",
    "df = pd.DataFrame(json[\"features\"][0][\"geometry\"][\"coordinates\"])\n",
    "df.columns = ['lng', 'lat']\n",
    "\n",
    "viewport = pdk.data_utils.compute_view(df[['lng', 'lat']])\n",
    "layer = pdk.Layer(\n",
    "    'ScreenGridLayer',\n",
    "    df,\n",
    "    cell_size_pixels=20,\n",
    "    color_range=COLOR_RANGE,\n",
    "    get_position='[lng, lat]',\n",
    "    pickable=True,\n",
    "    auto_highlight=True)\n",
    "r = pdk.Deck(layers=[layer], initial_view_state=viewport)"
   ]
  },
  {
   "cell_type": "code",
   "execution_count": 17,
   "metadata": {},
   "outputs": [
    {
     "data": {
      "application/vnd.jupyter.widget-view+json": {
       "model_id": "f2d772c91a004baeb6e2de2a300bfce0",
       "version_major": 2,
       "version_minor": 0
      },
      "text/plain": [
       "DeckGLWidget(json_input='{\"initialViewState\": {\"bearing\": 0, \"latitude\": 1.3258073334776113, \"longitude\": 103.…"
      ]
     },
     "metadata": {},
     "output_type": "display_data"
    }
   ],
   "source": [
    "r.show()"
   ]
  },
  {
   "cell_type": "code",
   "execution_count": null,
   "metadata": {},
   "outputs": [],
   "source": [
    "import pydeck as pdk\n",
    "\n",
    "all_lidar = pd.concat([\n",
    "    pd.read_csv('https://raw.githubusercontent.com/ajduberstein/kitti_subset/master/kitti_1.csv'),\n",
    "    pd.read_csv('https://raw.githubusercontent.com/ajduberstein/kitti_subset/master/kitti_2.csv'),\n",
    "    pd.read_csv('https://raw.githubusercontent.com/ajduberstein/kitti_subset/master/kitti_3.csv'),\n",
    "    pd.read_csv('https://raw.githubusercontent.com/ajduberstein/kitti_subset/master/kitti_4.csv'),\n",
    "])\n",
    "\n",
    "# Filter to one frame of data\n",
    "lidar = all_lidar[all_lidar['source'] == 136]\n",
    "lidar.loc[: , ['x', 'y']] = lidar[['x', 'y']] / 10000"
   ]
  },
  {
   "cell_type": "code",
   "execution_count": 21,
   "metadata": {},
   "outputs": [
    {
     "data": {
      "application/vnd.jupyter.widget-view+json": {
       "model_id": "ff981237a2a04f009c65a2f1fe36be03",
       "version_major": 2,
       "version_minor": 0
      },
      "text/plain": [
       "DeckGLWidget(json_input='{\"initialViewState\": {\"bearing\": 120, \"latitude\": -3.0079270065674496e-05, \"longitude…"
      ]
     },
     "metadata": {},
     "output_type": "display_data"
    }
   ],
   "source": [
    "point_cloud = pdk.Layer(\n",
    "    'PointCloudLayer',\n",
    "    lidar[['x', 'y', 'z']],\n",
    "    get_position='[x, y, z * 10]',\n",
    "    get_normal=[0, 0, 1],\n",
    "    get_color=[255, 0, 100, 200],\n",
    "    pickable=True,  \n",
    "    auto_highlight=True,\n",
    "    point_size=1)\n",
    "\n",
    "\n",
    "view_state = pdk.data_utils.compute_view(lidar[['x', 'y']], 0.9)\n",
    "view_state.max_pitch = 360\n",
    "view_state.pitch = 80\n",
    "view_state.bearing = 120\n",
    "\n",
    "r = pdk.Deck(\n",
    "    point_cloud,\n",
    "    initial_view_state=view_state,\n",
    "    map_style='')\n",
    "r.show()"
   ]
  },
  {
   "cell_type": "code",
   "execution_count": null,
   "metadata": {},
   "outputs": [
    {
     "name": "stdout",
     "output_type": "stream",
     "text": [
      "Press the stop icon to exit\n"
     ]
    }
   ],
   "source": [
    "import time\n",
    "from collections import deque\n",
    "\n",
    "# Choose a handful of frames to loop through\n",
    "frame_buffer = deque([42, 56, 81, 95])\n",
    "print('Press the stop icon to exit')\n",
    "while True:\n",
    "    current_frame = frame_buffer[0]\n",
    "    lidar = all_lidar[all_lidar['source'] == current_frame]\n",
    "    r.layers[0].get_position = '[x / 10000, y / 10000, z * 10]'\n",
    "    r.layers[0].data = lidar.to_dict(orient='records')\n",
    "    frame_buffer.rotate()\n",
    "    r.update()\n",
    "    time.sleep(0.5)"
   ]
  },
  {
   "cell_type": "code",
   "execution_count": 24,
   "metadata": {},
   "outputs": [
    {
     "data": {
      "text/html": [
       "<div>\n",
       "<style scoped>\n",
       "    .dataframe tbody tr th:only-of-type {\n",
       "        vertical-align: middle;\n",
       "    }\n",
       "\n",
       "    .dataframe tbody tr th {\n",
       "        vertical-align: top;\n",
       "    }\n",
       "\n",
       "    .dataframe thead th {\n",
       "        text-align: right;\n",
       "    }\n",
       "</style>\n",
       "<table border=\"1\" class=\"dataframe\">\n",
       "  <thead>\n",
       "    <tr style=\"text-align: right;\">\n",
       "      <th></th>\n",
       "      <th>year</th>\n",
       "      <th>lng</th>\n",
       "      <th>lat</th>\n",
       "      <th>brightness</th>\n",
       "    </tr>\n",
       "  </thead>\n",
       "  <tbody>\n",
       "    <tr>\n",
       "      <th>0</th>\n",
       "      <td>1993</td>\n",
       "      <td>104.575</td>\n",
       "      <td>31.808</td>\n",
       "      <td>4</td>\n",
       "    </tr>\n",
       "    <tr>\n",
       "      <th>1</th>\n",
       "      <td>1993</td>\n",
       "      <td>104.583</td>\n",
       "      <td>31.808</td>\n",
       "      <td>4</td>\n",
       "    </tr>\n",
       "    <tr>\n",
       "      <th>2</th>\n",
       "      <td>1993</td>\n",
       "      <td>104.592</td>\n",
       "      <td>31.808</td>\n",
       "      <td>4</td>\n",
       "    </tr>\n",
       "    <tr>\n",
       "      <th>3</th>\n",
       "      <td>1993</td>\n",
       "      <td>104.600</td>\n",
       "      <td>31.808</td>\n",
       "      <td>4</td>\n",
       "    </tr>\n",
       "    <tr>\n",
       "      <th>4</th>\n",
       "      <td>1993</td>\n",
       "      <td>104.675</td>\n",
       "      <td>31.808</td>\n",
       "      <td>4</td>\n",
       "    </tr>\n",
       "  </tbody>\n",
       "</table>\n",
       "</div>"
      ],
      "text/plain": [
       "   year      lng     lat  brightness\n",
       "0  1993  104.575  31.808           4\n",
       "1  1993  104.583  31.808           4\n",
       "2  1993  104.592  31.808           4\n",
       "3  1993  104.600  31.808           4\n",
       "4  1993  104.675  31.808           4"
      ]
     },
     "execution_count": 24,
     "metadata": {},
     "output_type": "execute_result"
    }
   ],
   "source": [
    "LIGHTS_URL = 'https://raw.githubusercontent.com/ajduberstein/lights_at_night/master/chengdu_lights_at_night.csv'\n",
    "df = pd.read_csv(LIGHTS_URL)\n",
    "df.head()"
   ]
  },
  {
   "cell_type": "code",
   "execution_count": 25,
   "metadata": {},
   "outputs": [
    {
     "data": {
      "text/html": [
       "<div>\n",
       "<style scoped>\n",
       "    .dataframe tbody tr th:only-of-type {\n",
       "        vertical-align: middle;\n",
       "    }\n",
       "\n",
       "    .dataframe tbody tr th {\n",
       "        vertical-align: top;\n",
       "    }\n",
       "\n",
       "    .dataframe thead th {\n",
       "        text-align: right;\n",
       "    }\n",
       "</style>\n",
       "<table border=\"1\" class=\"dataframe\">\n",
       "  <thead>\n",
       "    <tr style=\"text-align: right;\">\n",
       "      <th></th>\n",
       "      <th>year</th>\n",
       "      <th>lng</th>\n",
       "      <th>lat</th>\n",
       "      <th>brightness</th>\n",
       "      <th>color</th>\n",
       "    </tr>\n",
       "  </thead>\n",
       "  <tbody>\n",
       "    <tr>\n",
       "      <th>15308</th>\n",
       "      <td>1997</td>\n",
       "      <td>104.508</td>\n",
       "      <td>31.533</td>\n",
       "      <td>4</td>\n",
       "      <td>[255, 16, 255, 255]</td>\n",
       "    </tr>\n",
       "    <tr>\n",
       "      <th>209847</th>\n",
       "      <td>2007</td>\n",
       "      <td>103.492</td>\n",
       "      <td>30.058</td>\n",
       "      <td>3</td>\n",
       "      <td>[255, 12, 255, 255]</td>\n",
       "    </tr>\n",
       "    <tr>\n",
       "      <th>59649</th>\n",
       "      <td>2009</td>\n",
       "      <td>104.242</td>\n",
       "      <td>31.325</td>\n",
       "      <td>18</td>\n",
       "      <td>[255, 72, 255, 255]</td>\n",
       "    </tr>\n",
       "    <tr>\n",
       "      <th>186655</th>\n",
       "      <td>2007</td>\n",
       "      <td>104.358</td>\n",
       "      <td>31.292</td>\n",
       "      <td>5</td>\n",
       "      <td>[255, 20, 255, 255]</td>\n",
       "    </tr>\n",
       "    <tr>\n",
       "      <th>174244</th>\n",
       "      <td>2013</td>\n",
       "      <td>105.342</td>\n",
       "      <td>30.058</td>\n",
       "      <td>25</td>\n",
       "      <td>[255, 100, 255, 255]</td>\n",
       "    </tr>\n",
       "    <tr>\n",
       "      <th>130130</th>\n",
       "      <td>2003</td>\n",
       "      <td>104.250</td>\n",
       "      <td>30.683</td>\n",
       "      <td>9</td>\n",
       "      <td>[255, 36, 255, 255]</td>\n",
       "    </tr>\n",
       "    <tr>\n",
       "      <th>279652</th>\n",
       "      <td>2005</td>\n",
       "      <td>104.567</td>\n",
       "      <td>30.525</td>\n",
       "      <td>3</td>\n",
       "      <td>[255, 12, 255, 255]</td>\n",
       "    </tr>\n",
       "    <tr>\n",
       "      <th>126856</th>\n",
       "      <td>2003</td>\n",
       "      <td>103.817</td>\n",
       "      <td>30.875</td>\n",
       "      <td>5</td>\n",
       "      <td>[255, 20, 255, 255]</td>\n",
       "    </tr>\n",
       "    <tr>\n",
       "      <th>267283</th>\n",
       "      <td>2005</td>\n",
       "      <td>104.233</td>\n",
       "      <td>31.150</td>\n",
       "      <td>8</td>\n",
       "      <td>[255, 32, 255, 255]</td>\n",
       "    </tr>\n",
       "    <tr>\n",
       "      <th>115637</th>\n",
       "      <td>2001</td>\n",
       "      <td>104.683</td>\n",
       "      <td>29.483</td>\n",
       "      <td>5</td>\n",
       "      <td>[255, 20, 255, 255]</td>\n",
       "    </tr>\n",
       "  </tbody>\n",
       "</table>\n",
       "</div>"
      ],
      "text/plain": [
       "        year      lng     lat  brightness                 color\n",
       "15308   1997  104.508  31.533           4   [255, 16, 255, 255]\n",
       "209847  2007  103.492  30.058           3   [255, 12, 255, 255]\n",
       "59649   2009  104.242  31.325          18   [255, 72, 255, 255]\n",
       "186655  2007  104.358  31.292           5   [255, 20, 255, 255]\n",
       "174244  2013  105.342  30.058          25  [255, 100, 255, 255]\n",
       "130130  2003  104.250  30.683           9   [255, 36, 255, 255]\n",
       "279652  2005  104.567  30.525           3   [255, 12, 255, 255]\n",
       "126856  2003  103.817  30.875           5   [255, 20, 255, 255]\n",
       "267283  2005  104.233  31.150           8   [255, 32, 255, 255]\n",
       "115637  2001  104.683  29.483           5   [255, 20, 255, 255]"
      ]
     },
     "execution_count": 25,
     "metadata": {},
     "output_type": "execute_result"
    }
   ],
   "source": [
    "df['color'] = df['brightness'].apply(lambda val: [255, val * 4,  255, 255])\n",
    "df.sample(10)"
   ]
  },
  {
   "cell_type": "code",
   "execution_count": 26,
   "metadata": {},
   "outputs": [
    {
     "data": {
      "application/vnd.jupyter.widget-view+json": {
       "model_id": "d74e747dfa5746a1b69d9fbc5b771060",
       "version_major": 2,
       "version_minor": 0
      },
      "text/plain": [
       "DeckGLWidget(json_input='{\"initialViewState\": {\"bearing\": 0, \"latitude\": 31.0, \"longitude\": 104.5, \"maxZoom\": …"
      ]
     },
     "metadata": {},
     "output_type": "display_data"
    }
   ],
   "source": [
    "plottable = df[df['year'] == 1993].to_dict(orient='records')\n",
    "\n",
    "view_state = pdk.ViewState(\n",
    "    latitude=31.0,\n",
    "    longitude=104.5,\n",
    "    zoom=8,\n",
    "    max_zoom=8,\n",
    "    min_zoom=8)\n",
    "scatterplot = pdk.Layer(\n",
    "    'HeatmapLayer',\n",
    "    data=plottable,\n",
    "    get_position='[lng, lat]',\n",
    "    get_weight='brightness',\n",
    "    opacity=0.5,\n",
    "    pickable=False,\n",
    "    get_radius=800)\n",
    "r = pdk.Deck(\n",
    "    layers=[scatterplot],\n",
    "    initial_view_state=view_state,\n",
    "    views=[pdk.View(type='MapView', controller=None)])\n",
    "r.show()"
   ]
  },
  {
   "cell_type": "code",
   "execution_count": 27,
   "metadata": {},
   "outputs": [
    {
     "data": {
      "application/vnd.jupyter.widget-view+json": {
       "model_id": "3191432f155344d28e351ce9aa3505a6",
       "version_major": 2,
       "version_minor": 0
      },
      "text/plain": [
       "IntSlider(value=1993, max=2013, min=1993, step=2)"
      ]
     },
     "metadata": {},
     "output_type": "display_data"
    }
   ],
   "source": [
    "import ipywidgets as widgets\n",
    "from IPython.display import display\n",
    "slider = widgets.IntSlider(1992, min=1993, max=2013, step=2)\n",
    "def on_change(v):\n",
    "    results = df[df['year'] == slider.value].to_dict(orient='records')\n",
    "    scatterplot.data = results\n",
    "    r.update()\n",
    "    \n",
    "slider.observe(on_change, names='value')\n",
    "display(slider)"
   ]
  },
  {
   "cell_type": "code",
   "execution_count": null,
   "metadata": {},
   "outputs": [],
   "source": []
  }
 ],
 "metadata": {
  "kernelspec": {
   "display_name": "Python 3",
   "language": "python",
   "name": "python3"
  },
  "language_info": {
   "codemirror_mode": {
    "name": "ipython",
    "version": 3
   },
   "file_extension": ".py",
   "mimetype": "text/x-python",
   "name": "python",
   "nbconvert_exporter": "python",
   "pygments_lexer": "ipython3",
   "version": "3.6.5"
  }
 },
 "nbformat": 4,
 "nbformat_minor": 2
}
