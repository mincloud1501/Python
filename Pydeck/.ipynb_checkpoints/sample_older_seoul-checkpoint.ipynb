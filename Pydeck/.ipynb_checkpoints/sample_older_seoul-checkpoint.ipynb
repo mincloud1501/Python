{
 "cells": [
  {
   "cell_type": "code",
   "execution_count": 2,
   "metadata": {},
   "outputs": [],
   "source": [
    "import pydeck as pdk\n",
    "import pandas as pd\n",
    "\n",
    "geo_data = 'data/older_seoul.geojson'"
   ]
  },
  {
   "cell_type": "code",
   "execution_count": 3,
   "metadata": {},
   "outputs": [
    {
     "data": {
      "text/html": [
       "<div>\n",
       "<style scoped>\n",
       "    .dataframe tbody tr th:only-of-type {\n",
       "        vertical-align: middle;\n",
       "    }\n",
       "\n",
       "    .dataframe tbody tr th {\n",
       "        vertical-align: top;\n",
       "    }\n",
       "\n",
       "    .dataframe thead th {\n",
       "        text-align: right;\n",
       "    }\n",
       "</style>\n",
       "<table border=\"1\" class=\"dataframe\">\n",
       "  <thead>\n",
       "    <tr style=\"text-align: right;\">\n",
       "      <th></th>\n",
       "      <th>시</th>\n",
       "      <th>구</th>\n",
       "      <th>동</th>\n",
       "      <th>행정동코드</th>\n",
       "      <th>인구</th>\n",
       "      <th>남자</th>\n",
       "      <th>여자</th>\n",
       "      <th>geometry</th>\n",
       "    </tr>\n",
       "  </thead>\n",
       "  <tbody>\n",
       "    <tr>\n",
       "      <th>0</th>\n",
       "      <td>서울특별시</td>\n",
       "      <td>종로구</td>\n",
       "      <td>사직동</td>\n",
       "      <td>11110530</td>\n",
       "      <td>9700</td>\n",
       "      <td>4375</td>\n",
       "      <td>5325</td>\n",
       "      <td>MULTIPOLYGON (((126.97689 37.57565, 126.97703 ...</td>\n",
       "    </tr>\n",
       "    <tr>\n",
       "      <th>1</th>\n",
       "      <td>서울특별시</td>\n",
       "      <td>종로구</td>\n",
       "      <td>삼청동</td>\n",
       "      <td>11110540</td>\n",
       "      <td>3013</td>\n",
       "      <td>1443</td>\n",
       "      <td>1570</td>\n",
       "      <td>MULTIPOLYGON (((126.98269 37.59507, 126.98337 ...</td>\n",
       "    </tr>\n",
       "    <tr>\n",
       "      <th>2</th>\n",
       "      <td>서울특별시</td>\n",
       "      <td>종로구</td>\n",
       "      <td>부암동</td>\n",
       "      <td>11110550</td>\n",
       "      <td>10525</td>\n",
       "      <td>5002</td>\n",
       "      <td>5523</td>\n",
       "      <td>MULTIPOLYGON (((126.97585 37.59656, 126.97359 ...</td>\n",
       "    </tr>\n",
       "    <tr>\n",
       "      <th>3</th>\n",
       "      <td>서울특별시</td>\n",
       "      <td>종로구</td>\n",
       "      <td>평창동</td>\n",
       "      <td>11110560</td>\n",
       "      <td>18830</td>\n",
       "      <td>8817</td>\n",
       "      <td>10013</td>\n",
       "      <td>MULTIPOLYGON (((126.97507 37.63139, 126.97649 ...</td>\n",
       "    </tr>\n",
       "    <tr>\n",
       "      <th>4</th>\n",
       "      <td>서울특별시</td>\n",
       "      <td>종로구</td>\n",
       "      <td>무악동</td>\n",
       "      <td>11110570</td>\n",
       "      <td>8745</td>\n",
       "      <td>4078</td>\n",
       "      <td>4667</td>\n",
       "      <td>MULTIPOLYGON (((126.96067 37.58080, 126.96281 ...</td>\n",
       "    </tr>\n",
       "  </tbody>\n",
       "</table>\n",
       "</div>"
      ],
      "text/plain": [
       "       시    구    동     행정동코드     인구    남자     여자  \\\n",
       "0  서울특별시  종로구  사직동  11110530   9700  4375   5325   \n",
       "1  서울특별시  종로구  삼청동  11110540   3013  1443   1570   \n",
       "2  서울특별시  종로구  부암동  11110550  10525  5002   5523   \n",
       "3  서울특별시  종로구  평창동  11110560  18830  8817  10013   \n",
       "4  서울특별시  종로구  무악동  11110570   8745  4078   4667   \n",
       "\n",
       "                                            geometry  \n",
       "0  MULTIPOLYGON (((126.97689 37.57565, 126.97703 ...  \n",
       "1  MULTIPOLYGON (((126.98269 37.59507, 126.98337 ...  \n",
       "2  MULTIPOLYGON (((126.97585 37.59656, 126.97359 ...  \n",
       "3  MULTIPOLYGON (((126.97507 37.63139, 126.97649 ...  \n",
       "4  MULTIPOLYGON (((126.96067 37.58080, 126.96281 ...  "
      ]
     },
     "execution_count": 3,
     "metadata": {},
     "output_type": "execute_result"
    }
   ],
   "source": [
    "# pydeck 은 geojson 보다는 주로 pandas dataframe 을 input으로 받는다.\n",
    "import geopandas as gpd\n",
    "df = gpd.read_file(geo_data)\n",
    "df.head()"
   ]
  },
  {
   "cell_type": "code",
   "execution_count": 4,
   "metadata": {},
   "outputs": [],
   "source": [
    "def multipolygon_to_coordinates(x):\n",
    "    lon, lat = x[0].exterior.xy\n",
    "    return [[x, y] for x, y in zip(lon, lat)]\n",
    "\n",
    "df['coordinates'] = df['geometry'].apply(multipolygon_to_coordinates)\n",
    "del df['geometry']"
   ]
  },
  {
   "cell_type": "code",
   "execution_count": 5,
   "metadata": {},
   "outputs": [],
   "source": [
    "# 인구를 0 ~ 1 사이의 값으로 변환시킵니다.\n",
    "df['정규화인구'] = df['인구'] / df['인구'].max()"
   ]
  },
  {
   "cell_type": "code",
   "execution_count": 6,
   "metadata": {},
   "outputs": [],
   "source": [
    "df = pd.DataFrame(df)"
   ]
  },
  {
   "cell_type": "code",
   "execution_count": 7,
   "metadata": {},
   "outputs": [
    {
     "data": {
      "text/html": [
       "<div>\n",
       "<style scoped>\n",
       "    .dataframe tbody tr th:only-of-type {\n",
       "        vertical-align: middle;\n",
       "    }\n",
       "\n",
       "    .dataframe tbody tr th {\n",
       "        vertical-align: top;\n",
       "    }\n",
       "\n",
       "    .dataframe thead th {\n",
       "        text-align: right;\n",
       "    }\n",
       "</style>\n",
       "<table border=\"1\" class=\"dataframe\">\n",
       "  <thead>\n",
       "    <tr style=\"text-align: right;\">\n",
       "      <th></th>\n",
       "      <th>시</th>\n",
       "      <th>구</th>\n",
       "      <th>동</th>\n",
       "      <th>행정동코드</th>\n",
       "      <th>인구</th>\n",
       "      <th>남자</th>\n",
       "      <th>여자</th>\n",
       "      <th>coordinates</th>\n",
       "      <th>정규화인구</th>\n",
       "    </tr>\n",
       "  </thead>\n",
       "  <tbody>\n",
       "    <tr>\n",
       "      <th>0</th>\n",
       "      <td>서울특별시</td>\n",
       "      <td>종로구</td>\n",
       "      <td>사직동</td>\n",
       "      <td>11110530</td>\n",
       "      <td>9700</td>\n",
       "      <td>4375</td>\n",
       "      <td>5325</td>\n",
       "      <td>[[126.97688884274817, 37.575650779448786], [12...</td>\n",
       "      <td>0.167132</td>\n",
       "    </tr>\n",
       "    <tr>\n",
       "      <th>1</th>\n",
       "      <td>서울특별시</td>\n",
       "      <td>종로구</td>\n",
       "      <td>삼청동</td>\n",
       "      <td>11110540</td>\n",
       "      <td>3013</td>\n",
       "      <td>1443</td>\n",
       "      <td>1570</td>\n",
       "      <td>[[126.98268938649305, 37.5950655194224], [126....</td>\n",
       "      <td>0.051914</td>\n",
       "    </tr>\n",
       "    <tr>\n",
       "      <th>2</th>\n",
       "      <td>서울특별시</td>\n",
       "      <td>종로구</td>\n",
       "      <td>부암동</td>\n",
       "      <td>11110550</td>\n",
       "      <td>10525</td>\n",
       "      <td>5002</td>\n",
       "      <td>5523</td>\n",
       "      <td>[[126.97585113775686, 37.59656422224408], [126...</td>\n",
       "      <td>0.181347</td>\n",
       "    </tr>\n",
       "    <tr>\n",
       "      <th>3</th>\n",
       "      <td>서울특별시</td>\n",
       "      <td>종로구</td>\n",
       "      <td>평창동</td>\n",
       "      <td>11110560</td>\n",
       "      <td>18830</td>\n",
       "      <td>8817</td>\n",
       "      <td>10013</td>\n",
       "      <td>[[126.97507466788086, 37.63138628651299], [126...</td>\n",
       "      <td>0.324443</td>\n",
       "    </tr>\n",
       "    <tr>\n",
       "      <th>4</th>\n",
       "      <td>서울특별시</td>\n",
       "      <td>종로구</td>\n",
       "      <td>무악동</td>\n",
       "      <td>11110570</td>\n",
       "      <td>8745</td>\n",
       "      <td>4078</td>\n",
       "      <td>4667</td>\n",
       "      <td>[[126.96067353273895, 37.580797842029725], [12...</td>\n",
       "      <td>0.150677</td>\n",
       "    </tr>\n",
       "  </tbody>\n",
       "</table>\n",
       "</div>"
      ],
      "text/plain": [
       "       시    구    동     행정동코드     인구    남자     여자  \\\n",
       "0  서울특별시  종로구  사직동  11110530   9700  4375   5325   \n",
       "1  서울특별시  종로구  삼청동  11110540   3013  1443   1570   \n",
       "2  서울특별시  종로구  부암동  11110550  10525  5002   5523   \n",
       "3  서울특별시  종로구  평창동  11110560  18830  8817  10013   \n",
       "4  서울특별시  종로구  무악동  11110570   8745  4078   4667   \n",
       "\n",
       "                                         coordinates     정규화인구  \n",
       "0  [[126.97688884274817, 37.575650779448786], [12...  0.167132  \n",
       "1  [[126.98268938649305, 37.5950655194224], [126....  0.051914  \n",
       "2  [[126.97585113775686, 37.59656422224408], [126...  0.181347  \n",
       "3  [[126.97507466788086, 37.63138628651299], [126...  0.324443  \n",
       "4  [[126.96067353273895, 37.580797842029725], [12...  0.150677  "
      ]
     },
     "execution_count": 7,
     "metadata": {},
     "output_type": "execute_result"
    }
   ],
   "source": [
    "df.head()"
   ]
  },
  {
   "cell_type": "code",
   "execution_count": 8,
   "metadata": {},
   "outputs": [
    {
     "data": {
      "application/vnd.jupyter.widget-view+json": {
       "model_id": "98226356614d4f9ab316f1637b1e6ea8",
       "version_major": 2,
       "version_minor": 0
      },
      "text/plain": [
       "DeckGLWidget(json_input='{\"initialViewState\": {\"bearing\": 0, \"latitude\": 37.565, \"longitude\": 126.986, \"maxZoo…"
      ]
     },
     "metadata": {},
     "output_type": "display_data"
    }
   ],
   "source": [
    "# Make layer\n",
    "layer = pdk.Layer(\n",
    "    'PolygonLayer', # 사용할 Layer 타입\n",
    "    df, # 시각화에 쓰일 데이터프레임\n",
    "    get_polygon='coordinates', # geometry 정보를 담고있는 컬럼 이름\n",
    "    get_fill_color='[0, 255*정규화인구, 0]', # 각 데이터 별 rgb 또는 rgba 값 (0~255)\n",
    "    pickable=True, # 지도와 interactive 한 동작 on\n",
    "    auto_highlight=True # 마우스 오버(hover) 시 박스 출력\n",
    ")\n",
    "\n",
    "# Set the viewport location\n",
    "center = [126.986, 37.565]\n",
    "view_state = pdk.ViewState(\n",
    "    longitude=center[0],\n",
    "    latitude=center[1],\n",
    "    zoom=10\n",
    ")\n",
    "# Render\n",
    "r = pdk.Deck(layers=[layer], initial_view_state=view_state)\n",
    "r.show()"
   ]
  },
  {
   "cell_type": "code",
   "execution_count": 9,
   "metadata": {},
   "outputs": [
    {
     "data": {
      "application/vnd.jupyter.widget-view+json": {
       "model_id": "313d6a51dff04d1690cec626c9e9e17d",
       "version_major": 2,
       "version_minor": 0
      },
      "text/plain": [
       "DeckGLWidget(json_input='{\"initialViewState\": {\"bearing\": 15, \"latitude\": 37.565, \"longitude\": 126.986, \"maxZo…"
      ]
     },
     "metadata": {},
     "output_type": "display_data"
    }
   ],
   "source": [
    "# '인구' 기준으로 높이 설정\n",
    "layer.extruded = True;\n",
    "layer.get_elevation = '인구';\n",
    "layer.elevation_scale = 0.05\n",
    "\n",
    "view_state.bearing=15\n",
    "view_state.pitch=45\n",
    "\n",
    "r = pdk.Deck(layers=[layer], initial_view_state=view_state)\n",
    "r.show()      "
   ]
  },
  {
   "cell_type": "code",
   "execution_count": null,
   "metadata": {},
   "outputs": [],
   "source": []
  }
 ],
 "metadata": {
  "kernelspec": {
   "display_name": "Python 3",
   "language": "python",
   "name": "python3"
  },
  "language_info": {
   "codemirror_mode": {
    "name": "ipython",
    "version": 3
   },
   "file_extension": ".py",
   "mimetype": "text/x-python",
   "name": "python",
   "nbconvert_exporter": "python",
   "pygments_lexer": "ipython3",
   "version": "3.7.3"
  }
 },
 "nbformat": 4,
 "nbformat_minor": 2
}
