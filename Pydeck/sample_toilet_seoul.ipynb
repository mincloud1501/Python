{
 "cells": [
  {
   "cell_type": "code",
   "execution_count": 1,
   "metadata": {},
   "outputs": [],
   "source": [
    "import pydeck as pdk\n",
    "import pandas as pd\n",
    "\n",
    "geo_data = 'data/toilet_seoul.geojson'"
   ]
  },
  {
   "cell_type": "code",
   "execution_count": 2,
   "metadata": {},
   "outputs": [
    {
     "data": {
      "text/html": [
       "<div>\n",
       "<style scoped>\n",
       "    .dataframe tbody tr th:only-of-type {\n",
       "        vertical-align: middle;\n",
       "    }\n",
       "\n",
       "    .dataframe tbody tr th {\n",
       "        vertical-align: top;\n",
       "    }\n",
       "\n",
       "    .dataframe thead th {\n",
       "        text-align: right;\n",
       "    }\n",
       "</style>\n",
       "<table border=\"1\" class=\"dataframe\">\n",
       "  <thead>\n",
       "    <tr style=\"text-align: right;\">\n",
       "      <th></th>\n",
       "      <th>구명</th>\n",
       "      <th>법정동명</th>\n",
       "      <th>이용량</th>\n",
       "      <th>lat</th>\n",
       "      <th>lng</th>\n",
       "    </tr>\n",
       "  </thead>\n",
       "  <tbody>\n",
       "    <tr>\n",
       "      <th>0</th>\n",
       "      <td>송파구</td>\n",
       "      <td>마천동</td>\n",
       "      <td>248</td>\n",
       "      <td>37.501401</td>\n",
       "      <td>127.158647</td>\n",
       "    </tr>\n",
       "    <tr>\n",
       "      <th>1</th>\n",
       "      <td>노원구</td>\n",
       "      <td>하계동</td>\n",
       "      <td>252</td>\n",
       "      <td>37.644937</td>\n",
       "      <td>127.073728</td>\n",
       "    </tr>\n",
       "    <tr>\n",
       "      <th>2</th>\n",
       "      <td>노원구</td>\n",
       "      <td>하계동</td>\n",
       "      <td>192</td>\n",
       "      <td>37.640335</td>\n",
       "      <td>127.077637</td>\n",
       "    </tr>\n",
       "    <tr>\n",
       "      <th>3</th>\n",
       "      <td>강북구</td>\n",
       "      <td>수유동</td>\n",
       "      <td>409</td>\n",
       "      <td>37.645724</td>\n",
       "      <td>127.020449</td>\n",
       "    </tr>\n",
       "    <tr>\n",
       "      <th>4</th>\n",
       "      <td>도봉구</td>\n",
       "      <td>방학동</td>\n",
       "      <td>333</td>\n",
       "      <td>37.659783</td>\n",
       "      <td>127.031187</td>\n",
       "    </tr>\n",
       "  </tbody>\n",
       "</table>\n",
       "</div>"
      ],
      "text/plain": [
       "    구명 법정동명  이용량        lat         lng\n",
       "0  송파구  마천동  248  37.501401  127.158647\n",
       "1  노원구  하계동  252  37.644937  127.073728\n",
       "2  노원구  하계동  192  37.640335  127.077637\n",
       "3  강북구  수유동  409  37.645724  127.020449\n",
       "4  도봉구  방학동  333  37.659783  127.031187"
      ]
     },
     "execution_count": 2,
     "metadata": {},
     "output_type": "execute_result"
    }
   ],
   "source": [
    "import geopandas as gpd\n",
    "\n",
    "df = gpd.read_file(geo_data)\n",
    "df['lat'] = df['geometry'].apply(lambda coord: coord.y)\n",
    "df['lng'] = df['geometry'].apply(lambda coord: coord.x)\n",
    "\n",
    "del df['geometry']\n",
    "df = pd.DataFrame(df)\n",
    "df.head()"
   ]
  },
  {
   "cell_type": "code",
   "execution_count": 3,
   "metadata": {},
   "outputs": [
    {
     "data": {
      "application/vnd.jupyter.widget-view+json": {
       "model_id": "2096bf11e94f4cac8a0169b890c59371",
       "version_major": 2,
       "version_minor": 0
      },
      "text/plain": [
       "DeckGLWidget(json_input='{\"initialViewState\": {\"bearing\": 0, \"latitude\": 37.565, \"longitude\": 126.986, \"maxZoo…"
      ]
     },
     "metadata": {},
     "output_type": "display_data"
    }
   ],
   "source": [
    "# ScatterplotLayer 이용하기\n",
    "layer = pdk.Layer(\n",
    "    'ScatterplotLayer',\n",
    "    df,\n",
    "    get_position='[lng, lat]',\n",
    "    get_radius=50,\n",
    "    get_fill_color='[255, 255, 255]',\n",
    "    pickable=True,\n",
    "    auto_highlight=True\n",
    ")\n",
    "\n",
    "center = [126.986, 37.565]\n",
    "view_state = pdk.ViewState(\n",
    "    longitude=center[0],\n",
    "    latitude=center[1],\n",
    "    zoom=10\n",
    ")\n",
    "\n",
    "r = pdk.Deck(\n",
    "    layers=[layer],\n",
    "    initial_view_state=view_state\n",
    ")\n",
    "r.show()"
   ]
  },
  {
   "cell_type": "code",
   "execution_count": 4,
   "metadata": {},
   "outputs": [
    {
     "data": {
      "application/vnd.jupyter.widget-view+json": {
       "model_id": "1a0f0f1b8bbb4a05955dad425c9f16ea",
       "version_major": 2,
       "version_minor": 0
      },
      "text/plain": [
       "DeckGLWidget(json_input='{\"initialViewState\": {\"bearing\": 0, \"latitude\": 37.565, \"longitude\": 126.986, \"maxZoo…"
      ]
     },
     "metadata": {},
     "output_type": "display_data"
    }
   ],
   "source": [
    "# 이용량에 따라 색을 다르게 할 땐 get_fill_color 를 수정, 색상은 0~255 값을 갖는 rgba\n",
    "# 각 Point 의 지름 반지름 설정, 높이 설정 등은 get_radius, get_elevation 을 이용\n",
    "\n",
    "df['정규화이용량'] = df['이용량'] / df['이용량'].max()\n",
    "\n",
    "layer.get_fill_color = '[255*정규화이용량, 255*정규화이용량, 255]'\n",
    "\n",
    "r = pdk.Deck(layers=[layer], initial_view_state=view_state)\n",
    "r.show()"
   ]
  },
  {
   "cell_type": "code",
   "execution_count": 5,
   "metadata": {
    "scrolled": true
   },
   "outputs": [
    {
     "data": {
      "application/vnd.jupyter.widget-view+json": {
       "model_id": "65caf6244dab4ebb8f8ece572481b28b",
       "version_major": 2,
       "version_minor": 0
      },
      "text/plain": [
       "DeckGLWidget(json_input='{\"initialViewState\": {\"bearing\": 0, \"latitude\": 37.565, \"longitude\": 126.986, \"maxZoo…"
      ]
     },
     "metadata": {},
     "output_type": "display_data"
    }
   ],
   "source": [
    "# HeatmapLayer - Point 들의 밀집도를 한 눈에 파악 가능\n",
    "# colorRange, intensity, getWeight 등의 추가적인 파라미터들을 통해 색상, 밀도, 가중치 설정이 가능\n",
    "\n",
    "layer = pdk.Layer(\n",
    "    'HeatmapLayer',\n",
    "    df,\n",
    "    get_position='[lng, lat]'\n",
    ")\n",
    "\n",
    "center = [126.986, 37.565]\n",
    "view_state = pdk.ViewState(\n",
    "    longitude=center[0],\n",
    "    latitude=center[1],\n",
    "    zoom=10\n",
    ")\n",
    "\n",
    "r = pdk.Deck(layers=[layer], initial_view_state=view_state)\n",
    "r.show()"
   ]
  },
  {
   "cell_type": "code",
   "execution_count": 6,
   "metadata": {},
   "outputs": [
    {
     "data": {
      "application/vnd.jupyter.widget-view+json": {
       "model_id": "2ed632959c04444ba32d4a075b275674",
       "version_major": 2,
       "version_minor": 0
      },
      "text/plain": [
       "DeckGLWidget(json_input='{\"initialViewState\": {\"bearing\": 0, \"latitude\": 37.565, \"longitude\": 126.986, \"maxZoo…"
      ]
     },
     "metadata": {},
     "output_type": "display_data"
    }
   ],
   "source": [
    "#  CPUGridLayer (GPUGridLayer)\n",
    "\n",
    "layer = pdk.Layer(\n",
    "    'CPUGridLayer', # 대용량 데이터의 경우 'GPUGridLayer'\n",
    "    df,\n",
    "    get_position='[lng, lat]',\n",
    "    pickable=True,\n",
    "    auto_highlight=True\n",
    ")\n",
    "\n",
    "center = [126.986, 37.565]\n",
    "view_state = pdk.ViewState(\n",
    "    longitude=center[0],\n",
    "    latitude=center[1],\n",
    "    zoom=10\n",
    ")\n",
    "\n",
    "r = pdk.Deck(layers=[layer], initial_view_state=view_state)\n",
    "r.show()"
   ]
  },
  {
   "cell_type": "code",
   "execution_count": 7,
   "metadata": {},
   "outputs": [
    {
     "data": {
      "application/vnd.jupyter.widget-view+json": {
       "model_id": "20716bbab5ae42c19f8ac69f60675275",
       "version_major": 2,
       "version_minor": 0
      },
      "text/plain": [
       "DeckGLWidget(json_input='{\"initialViewState\": {\"bearing\": -15, \"latitude\": 37.565, \"longitude\": 126.986, \"maxZ…"
      ]
     },
     "metadata": {},
     "output_type": "display_data"
    }
   ],
   "source": [
    "layer.extruded = True\n",
    "layer.elevation_scale = 3 # default 1\n",
    "\n",
    "view_state.bearing = -15\n",
    "view_state.pitch = 45\n",
    "\n",
    "r = pdk.Deck(layers=[layer], initial_view_state=view_state)\n",
    "r.show()"
   ]
  },
  {
   "cell_type": "code",
   "execution_count": 8,
   "metadata": {},
   "outputs": [
    {
     "data": {
      "application/vnd.jupyter.widget-view+json": {
       "model_id": "9de7ccf8272e4b8693373651b44a7bb3",
       "version_major": 2,
       "version_minor": 0
      },
      "text/plain": [
       "DeckGLWidget(json_input='{\"initialViewState\": {\"bearing\": -15, \"latitude\": 37.565, \"longitude\": 126.986, \"maxZ…"
      ]
     },
     "metadata": {},
     "output_type": "display_data"
    }
   ],
   "source": [
    "# HexagonLayer\n",
    "\n",
    "layer.type = 'HexagonLayer'\n",
    "r = pdk.Deck(layers=[layer], initial_view_state=view_state)\n",
    "r.show()"
   ]
  },
  {
   "cell_type": "code",
   "execution_count": 13,
   "metadata": {},
   "outputs": [
    {
     "data": {
      "application/vnd.jupyter.widget-view+json": {
       "model_id": "46f5471c07714cbdb387de4c6762c301",
       "version_major": 2,
       "version_minor": 0
      },
      "text/plain": [
       "DeckGLWidget(json_input='{\"initialViewState\": {\"bearing\": 0, \"latitude\": 37.565, \"longitude\": 126.986, \"maxZoo…"
      ]
     },
     "metadata": {},
     "output_type": "display_data"
    }
   ],
   "source": [
    "# TextLayer\n",
    "\n",
    "df['text'] = 'text'\n",
    "\n",
    "layer = pdk.Layer(\n",
    "    'TextLayer',\n",
    "    df[:100],\n",
    "    get_position='[lng, lat]',\n",
    "    get_text='text',\n",
    "    get_color='[0, 255, 255]',\n",
    "    font_family='consolas',\n",
    "    sizeScale=0.5,\n",
    "    pickable=True,\n",
    "    auto_highlight=True\n",
    ")\n",
    "\n",
    "center = [126.986, 37.565]\n",
    "view_state = pdk.ViewState(\n",
    "    longitude=center[0],\n",
    "    latitude=center[1],\n",
    "    zoom=10\n",
    ")\n",
    "\n",
    "r = pdk.Deck(layers=[layer], initial_view_state=view_state)\n",
    "r.show()"
   ]
  },
  {
   "cell_type": "code",
   "execution_count": null,
   "metadata": {},
   "outputs": [],
   "source": []
  }
 ],
 "metadata": {
  "kernelspec": {
   "display_name": "Python 3",
   "language": "python",
   "name": "python3"
  },
  "language_info": {
   "codemirror_mode": {
    "name": "ipython",
    "version": 3
   },
   "file_extension": ".py",
   "mimetype": "text/x-python",
   "name": "python",
   "nbconvert_exporter": "python",
   "pygments_lexer": "ipython3",
   "version": "3.7.3"
  }
 },
 "nbformat": 4,
 "nbformat_minor": 2
}
